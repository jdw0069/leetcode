{
 "cells": [
  {
   "cell_type": "code",
   "execution_count": 137,
   "metadata": {},
   "outputs": [],
   "source": [
    "#Addtion route \n",
    "# Logic, read an array of numbers and add tow numbers to equal target "
   ]
  },
  {
   "cell_type": "code",
   "execution_count": 14,
   "metadata": {},
   "outputs": [],
   "source": [
    "list= [3,2,4]\n",
    "target= int(6)\n"
   ]
  },
  {
   "cell_type": "markdown",
   "metadata": {},
   "source": [
    "* Create an empty dictionary to store the value and the index of each list element as a key-pair\n",
    "* Then iterate through the indices and values of the list containing of numberrs\n",
    "* If the difference between the target and the current value in the list is already included as a key in the dictionary\n",
    "* Then it means that the current value and the value stored in the dictionary is the solution to our problem\n",
    "* Otherwise, we simply add the value and index as a key-value pair in our dictionary and keep iterating until we find the solution we are looking for"
   ]
  },
  {
   "cell_type": "code",
   "execution_count": 15,
   "metadata": {},
   "outputs": [],
   "source": [
    "from typing import List \n",
    "def twoSums(self, nums: List[int], target: int)-> List[int]:\n",
    "    values={}\n",
    "    for indx, value in enumerate(nums):\n",
    "        if target-value in values:\n",
    "            return [values[target-value],indx]\n",
    "        else:\n",
    "            values[value]=indx\n"
   ]
  }
 ],
 "metadata": {
  "interpreter": {
   "hash": "9d3ce54a82a273c9fc3d9592a72579e94296df6fc6fb427057f3483c37ed4159"
  },
  "kernelspec": {
   "display_name": "Python 3.9.7 ('base')",
   "language": "python",
   "name": "python3"
  },
  "language_info": {
   "codemirror_mode": {
    "name": "ipython",
    "version": 3
   },
   "file_extension": ".py",
   "mimetype": "text/x-python",
   "name": "python",
   "nbconvert_exporter": "python",
   "pygments_lexer": "ipython3",
   "version": "3.9.7"
  },
  "orig_nbformat": 4
 },
 "nbformat": 4,
 "nbformat_minor": 2
}
