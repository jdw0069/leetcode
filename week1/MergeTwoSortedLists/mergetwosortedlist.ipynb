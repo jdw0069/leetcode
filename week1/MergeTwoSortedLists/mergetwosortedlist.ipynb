{
 "cells": [
  {
   "cell_type": "code",
   "execution_count": 67,
   "metadata": {},
   "outputs": [],
   "source": [
    "list1 = [1,2,4]\n",
    "list2 = [4,8,9,12]"
   ]
  },
  {
   "cell_type": "code",
   "execution_count": 71,
   "metadata": {},
   "outputs": [],
   "source": [
    "class Solution:\n",
    "    #attibute= [1,2,3]\n",
    "     # init method or constructor \n",
    "    def __init__(self, list1,list2):\n",
    "        self.list1=list1\n",
    "        self.list2=list2\n",
    "    def merger(self,list1,list2):\n",
    "        data_list = list1+list2\n",
    "        import heapq\n",
    "        heapq.heapify(data_list)\n",
    "        new_list = []\n",
    "        while data_list:\n",
    "            new_list.append(heapq.heappop(data_list))\n",
    "        return new_list"
   ]
  },
  {
   "cell_type": "markdown",
   "metadata": {},
   "source": [
    "* Check if any of the lists is empty\n",
    "* First we need to determine the head of the resultant list. This head will be smaller of the heads of the given lists.\n",
    "* Loop through each node of the lists until one of the lists get traversed completely.\n",
    "* While traversing the lists, identify smaller of the nodes of the lists and add it to the resultant list.\n",
    "* Once the loop is complete, there may be a case where a list has nodes remaining. We will add those remaining nodes to the resultant list."
   ]
  },
  {
   "cell_type": "code",
   "execution_count": 63,
   "metadata": {},
   "outputs": [],
   "source": [
    "\n",
    "class ListNode:\n",
    "    def __init__(self, val=0, nextNode=None):\n",
    "        self.val = val\n",
    "        self.next = nextNode"
   ]
  },
  {
   "cell_type": "code",
   "execution_count": 38,
   "metadata": {},
   "outputs": [],
   "source": [
    "l1=ListNode(4)\n",
    "l2=ListNode(2)\n",
    "\n",
    "class Solution:\n",
    "    def mergeTwoLists(l1: ListNode, l2: ListNode) -> ListNode:\n",
    "        # Check if either of the lists is null\n",
    "        if l1 is None:\n",
    "            return l2\n",
    "        if l2 is None:\n",
    "            return l1\n",
    "        # Choose head which is smaller of the two lists\n",
    "        if l1.val < l2.val:\n",
    "            temp = head = ListNode(l1.val)\n",
    "            l1 = l1.next\n",
    "        else:\n",
    "            temp = head = ListNode(l2.val)\n",
    "            l2 = l2.next\n",
    "        # Loop until any of the list becomes null\n",
    "        while l1 is not     None and l2 is not None:\n",
    "            if l1.val < l2.val:\n",
    "                temp.next = ListNode(l1.val)\n",
    "                l1 = l1.next\n",
    "            else:\n",
    "                temp.next = ListNode(l2.val)\n",
    "                l2 = l2.next\n",
    "            temp = temp.next\n",
    "        # Add all the nodes in l1, if remaining\n",
    "        while l1 is not None:\n",
    "            temp.next = ListNode(l1.val)\n",
    "            l1 = l1.next\n",
    "            temp = temp.next\n",
    "        # Add all the nodes in l2, if remaining\n",
    "        while l2 is not None:\n",
    "            temp.next = ListNode(l2.val)\n",
    "            l2 = l2.next\n",
    "            temp = temp.next\n",
    "        return head"
   ]
  }
 ],
 "metadata": {
  "interpreter": {
   "hash": "9d3ce54a82a273c9fc3d9592a72579e94296df6fc6fb427057f3483c37ed4159"
  },
  "kernelspec": {
   "display_name": "Python 3.9.7 ('base')",
   "language": "python",
   "name": "python3"
  },
  "language_info": {
   "codemirror_mode": {
    "name": "ipython",
    "version": 3
   },
   "file_extension": ".py",
   "mimetype": "text/x-python",
   "name": "python",
   "nbconvert_exporter": "python",
   "pygments_lexer": "ipython3",
   "version": "3.9.7"
  },
  "orig_nbformat": 4
 },
 "nbformat": 4,
 "nbformat_minor": 2
}
