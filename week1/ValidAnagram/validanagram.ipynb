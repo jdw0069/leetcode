{
 "cells": [
  {
   "cell_type": "markdown",
   "metadata": {},
   "source": [
    "*  Write algorithm that will read a string from left to right and decide whether the letters are balanced\n",
    "* Must alphabatize each string \n",
    "* create a stack thst is empty \n",
    "* Process the strings from left to right \n",
    "* If the letter is present, push it to the stack \n",
    "* If stack become empty prior to reaching end of string , then the letters are not\n",
    "* compare string1 to string 2, and if the letters do not equal \n",
    "\n"
   ]
  },
  {
   "cell_type": "code",
   "execution_count": 99,
   "metadata": {},
   "outputs": [],
   "source": [
    "\n",
    "def sortString(s):\n",
    "    MAX_CHAR = 26\n",
    "    # Hash array to keep count of characters.\n",
    "    # Initially count of all characters is\n",
    "    # initialized to zero.\n",
    "    charCount = [0 for i in range(MAX_CHAR)]\n",
    "     \n",
    "    # Traverse string and increment\n",
    "    # count of characters\n",
    "    for i in range(0, len(s), 1):\n",
    "         \n",
    "        # 'a'-'a' will be 0, 'b'-'a' will be 1,\n",
    "        # so for location of character in count\n",
    "        # array we will do str[i]-'a'.\n",
    "        charCount[ord(s[i]) - ord('a')] += 1\n",
    "     \n",
    "    # Traverse the hash array and print\n",
    "    # characters\n",
    "    words=[]\n",
    "    for i in range(0, MAX_CHAR, 1):\n",
    "        for j in range(0, charCount[i], 1):\n",
    "            x= chr(ord('a') + i)\n",
    "            words.append(x)\n",
    "    return words\n",
    "\n",
    "def anagram(s1,s2):\n",
    "        wordList1= sortString(s1)\n",
    "        wordList2= sortString(s2)\n",
    "        if wordList1 == wordList2:\n",
    "            print(True)\n",
    "        else:\n",
    "            print(False)\n",
    "           "
   ]
  },
  {
   "cell_type": "code",
   "execution_count": 103,
   "metadata": {},
   "outputs": [],
   "source": [
    "s = \"geeksforgeeks\"\n",
    "\n",
    "p = \"nagaram\"\n",
    "t = \"anagram\""
   ]
  },
  {
   "cell_type": "code",
   "execution_count": 104,
   "metadata": {},
   "outputs": [
    {
     "name": "stdout",
     "output_type": "stream",
     "text": [
      "True\n"
     ]
    }
   ],
   "source": [
    "tester= anagram(p,t)"
   ]
  },
  {
   "cell_type": "code",
   "execution_count": null,
   "metadata": {},
   "outputs": [],
   "source": [
    "class Solution:\n",
    "    \n",
    "    def isAnagram(self, s: str, t: str) -> bool:\n",
    "                #if strings having different length of word they cant be Anagram So return False\n",
    "        if len(s)!=len(t): \n",
    "            return False\n",
    "        \n",
    "        countS,countT = {},{} #creating two hashmaps for counting of words\n",
    "        \n",
    "        for i in range(len(s)): #iterating through any string\n",
    "            #get function will helps to handle keyerror by passing default value as 0 \n",
    "            countS[s[i]] = 1 + countS.get(s[i],0) \n",
    "            countT[t[i]] = 1 + countT.get(t[i],0)\n",
    "        \n",
    "        for c in countS: # here we used c as iterator \n",
    "            if countS[c] !=countT.get(c,0): #if counting of both string not equal return false\n",
    "                return False\n",
    "        \n",
    "        return True #otherwise return True"
   ]
  }
 ],
 "metadata": {
  "interpreter": {
   "hash": "aee8b7b246df8f9039afb4144a1f6fd8d2ca17a180786b69acc140d282b71a49"
  },
  "kernelspec": {
   "display_name": "Python 3.9.6 64-bit",
   "language": "python",
   "name": "python3"
  },
  "language_info": {
   "codemirror_mode": {
    "name": "ipython",
    "version": 3
   },
   "file_extension": ".py",
   "mimetype": "text/x-python",
   "name": "python",
   "nbconvert_exporter": "python",
   "pygments_lexer": "ipython3",
   "version": "3.9.6"
  },
  "orig_nbformat": 4
 },
 "nbformat": 4,
 "nbformat_minor": 2
}
