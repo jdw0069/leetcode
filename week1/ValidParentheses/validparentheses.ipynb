{
 "cells": [
  {
   "cell_type": "markdown",
   "metadata": {},
   "source": [
    "* Write an algorithm that will read a string of parentheses from left to right and decide whether the symbols are balanced\n",
    "* Solve this problem need to make an important observation, process symbols from left to right\n",
    "* The most recent opening parenthesis must match the next closing symbol \n",
    "Approach \n",
    "* Starting with an empty stack\n",
    "* Process the parenthesis strings from left to right\n",
    "* If a symbol is an opening parenthesis, push it on the stack as a signal \n",
    "* If the stack becomes empty before we reach the end of the symbol_string\n",
    "*  then there are too many closing parentheses and the string is not balanced, so we immediately return False \n",
    " "
   ]
  },
  {
   "cell_type": "code",
   "execution_count": 19,
   "metadata": {},
   "outputs": [],
   "source": [
    "def validpar(myStr):\n",
    "    open_list = [\"[\",\"{\",\"(\"]\n",
    "    close_list = [\"]\",\"}\",\")\"]\n",
    "    stack = []\n",
    "    for i in myStr:\n",
    "        if i in open_list:\n",
    "            stack.append(i)\n",
    "            #print(stack)\n",
    "        elif i in close_list:\n",
    "            pos = close_list.index(i)\n",
    "            #print(pos)\n",
    "            if ((len(stack) > 0) and\n",
    "                (open_list[pos] == stack[len(stack)-1])):\n",
    "                stack.pop\n",
    "                #print(stack)\n",
    "            else:\n",
    "                return False\n",
    "    if len(stack) == 0:\n",
    "        return True\n",
    "    else:\n",
    "        return False"
   ]
  }
 ],
 "metadata": {
  "interpreter": {
   "hash": "9d3ce54a82a273c9fc3d9592a72579e94296df6fc6fb427057f3483c37ed4159"
  },
  "kernelspec": {
   "display_name": "Python 3.9.7 ('base')",
   "language": "python",
   "name": "python3"
  },
  "language_info": {
   "codemirror_mode": {
    "name": "ipython",
    "version": 3
   },
   "file_extension": ".py",
   "mimetype": "text/x-python",
   "name": "python",
   "nbconvert_exporter": "python",
   "pygments_lexer": "ipython3",
   "version": "3.9.7"
  },
  "orig_nbformat": 4
 },
 "nbformat": 4,
 "nbformat_minor": 2
}
