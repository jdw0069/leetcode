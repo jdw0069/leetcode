{
 "cells": [
  {
   "cell_type": "markdown",
   "metadata": {},
   "source": [
    "I just need to calculate dp[0], dp[1]…, dp[n] while comparing each one with current largest sum, \n",
    "if dp[i] > current_largest_sum then current_largest_sum = dp[i]"
   ]
  },
  {
   "cell_type": "code",
   "execution_count": null,
   "metadata": {},
   "outputs": [],
   "source": [
    "class Solution:\n",
    "    def maxSubArray(self, nums: List[int]) -> int:\n",
    "        ls = len(nums)\n",
    "        start, all = nums[-1], nums[-1]\n",
    "        for i in reversed(range(ls - 1)):\n",
    "            start = max(nums[i], nums[i] + start)\n",
    "            all = max(start, all)\n",
    "        return all"
   ]
  }
 ],
 "metadata": {
  "language_info": {
   "name": "python"
  },
  "orig_nbformat": 4
 },
 "nbformat": 4,
 "nbformat_minor": 2
}
