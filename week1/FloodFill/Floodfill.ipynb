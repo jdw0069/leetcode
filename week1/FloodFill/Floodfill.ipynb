{
 "cells": [
  {
   "cell_type": "code",
   "execution_count": 1,
   "metadata": {},
   "outputs": [],
   "source": [
    "  def floodFill(self, image, sr, sc, newColor):\n",
    "        # BFS with queue\n",
    "        r_ls, c_ls = len(image), len(image[0])\n",
    "        color = image[sr][sc]\n",
    "        if color == newColor:\n",
    "            return image\n",
    "        queue = [(sr, sc)]\n",
    "        while len(queue) > 0:\n",
    "            r, c = queue.pop(0)\n",
    "            if image[r][c] == color:\n",
    "                image[r][c] = newColor\n",
    "                if r - 1 >= 0: queue.append((r - 1, c))\n",
    "                if r + 1 < r_ls: queue.append((r + 1, c))\n",
    "                if c - 1 >= 0: queue.append((r, c - 1))\n",
    "                if c + 1 < c_ls: queue.append((r, c + 1))\n",
    "        return image"
   ]
  }
 ],
 "metadata": {
  "interpreter": {
   "hash": "9d3ce54a82a273c9fc3d9592a72579e94296df6fc6fb427057f3483c37ed4159"
  },
  "kernelspec": {
   "display_name": "Python 3.9.7 ('base')",
   "language": "python",
   "name": "python3"
  },
  "language_info": {
   "codemirror_mode": {
    "name": "ipython",
    "version": 3
   },
   "file_extension": ".py",
   "mimetype": "text/x-python",
   "name": "python",
   "nbconvert_exporter": "python",
   "pygments_lexer": "ipython3",
   "version": "3.9.7"
  },
  "orig_nbformat": 4
 },
 "nbformat": 4,
 "nbformat_minor": 2
}
