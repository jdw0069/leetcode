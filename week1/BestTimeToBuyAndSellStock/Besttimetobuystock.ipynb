{
 "cells": [
  {
   "cell_type": "markdown",
   "metadata": {},
   "source": [
    "* Given known prices and days \n",
    "* Want to know what day you can buy and sell to maximize profit "
   ]
  },
  {
   "cell_type": "markdown",
   "metadata": {},
   "source": [
    "* Kadene Algorithm should be used for this approach \n",
    "\n",
    "variation of kadane's algo. Instead of finding maximum sum subarray, you need to find the maximum profit you get from buying and selling shares. \n",
    "So to calculate maximum profit, we keep subtracting i-1th element from ith element to calculate profit after buying and selling prices of stocks respectively and adding it to max profit. \n",
    "If it goes below zero, we start from zero just as in kadane's\n"
   ]
  },
  {
   "cell_type": "code",
   "execution_count": 20,
   "metadata": {},
   "outputs": [],
   "source": [
    "from typing import List \n",
    "def Besttimetobuystock(self, prices: List[int])->int:\n",
    "    pmin= prices[0]\n",
    "    maxprofit= 0\n",
    "\n",
    "    for p in prices[1:]:\n",
    "        maxprofit= max(maxprofit,p-pmin)\n",
    "        pmin= min(pmin, p)\n",
    "    return maxprofit\n"
   ]
  },
  {
   "cell_type": "code",
   "execution_count": 1,
   "metadata": {},
   "outputs": [],
   "source": [
    "from typing import List \n",
    "def maxProfit(prices):\n",
    "        myDict={}\n",
    "        curmax= 0\n",
    "        globalmax= 0\n",
    "        for i in range(1, len(prices)): \n",
    "                curmax= max(curmax+(prices[i]-prices[i-1]),0)\n",
    "                print(type(curmax))\n",
    "                globalmax= max(globalmax,curmax)\n",
    "        return globalmax\n"
   ]
  }
 ],
 "metadata": {
  "interpreter": {
   "hash": "aee8b7b246df8f9039afb4144a1f6fd8d2ca17a180786b69acc140d282b71a49"
  },
  "kernelspec": {
   "display_name": "Python 3.9.6 64-bit",
   "language": "python",
   "name": "python3"
  },
  "language_info": {
   "codemirror_mode": {
    "name": "ipython",
    "version": 3
   },
   "file_extension": ".py",
   "mimetype": "text/x-python",
   "name": "python",
   "nbconvert_exporter": "python",
   "pygments_lexer": "ipython3",
   "version": "3.9.6"
  },
  "orig_nbformat": 4
 },
 "nbformat": 4,
 "nbformat_minor": 2
}
