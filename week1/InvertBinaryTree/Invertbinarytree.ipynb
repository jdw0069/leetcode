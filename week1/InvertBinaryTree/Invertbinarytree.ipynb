{
 "cells": [
  {
   "cell_type": "markdown",
   "metadata": {},
   "source": [
    "* Binary tree inversions are solved by recursions, must include a base c and a recursive case \n",
    "* The function will take root as an argument.\n",
    "* Swap root of left and right subtree.\n",
    "* invert left binary subtree.\n",
    "* invert right binary subtree.\n",
    "* return root once every subtree is inverted"
   ]
  },
  {
   "cell_type": "code",
   "execution_count": 4,
   "metadata": {},
   "outputs": [],
   "source": [
    "def nodetree(self, val=0, left=None, right=None):\n",
    "         self.val = val\n",
    "         self.left = left\n",
    "         self.right = right"
   ]
  },
  {
   "cell_type": "code",
   "execution_count": null,
   "metadata": {},
   "outputs": [],
   "source": [
    "def invertTree(self, root: Optional[TreeNode]) -> Optional[TreeNode]:\n",
    "    if not root:\n",
    "        return node\n",
    "    Tmp= root.left\n",
    "    root.left= root.right\n",
    "    root.right=Tmp \n",
    "    self.invertTree(root.left)\n",
    "    self.invertTree(root.right)\n",
    "    return root\n"
   ]
  },
  {
   "cell_type": "code",
   "execution_count": null,
   "metadata": {},
   "outputs": [],
   "source": [
    "#optimized \n",
    "def invertTree(self, root: Optional[TreeNode]) -> Optional[TreeNode]:\n",
    "        if root == None:\n",
    "            return root\n",
    "        root.left, root.right = root.right, root.left\n",
    "        self.invertTree(root.left)\n",
    "        self.invertTree(root.right)\n",
    "        return root"
   ]
  }
 ],
 "metadata": {
  "interpreter": {
   "hash": "9d3ce54a82a273c9fc3d9592a72579e94296df6fc6fb427057f3483c37ed4159"
  },
  "kernelspec": {
   "display_name": "Python 3.9.7 ('base')",
   "language": "python",
   "name": "python3"
  },
  "language_info": {
   "codemirror_mode": {
    "name": "ipython",
    "version": 3
   },
   "file_extension": ".py",
   "mimetype": "text/x-python",
   "name": "python",
   "nbconvert_exporter": "python",
   "pygments_lexer": "ipython3",
   "version": "3.9.7"
  },
  "orig_nbformat": 4
 },
 "nbformat": 4,
 "nbformat_minor": 2
}
